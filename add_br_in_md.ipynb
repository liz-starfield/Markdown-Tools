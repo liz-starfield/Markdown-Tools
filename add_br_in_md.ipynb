{
 "cells": [
  {
   "cell_type": "code",
   "execution_count": 17,
   "metadata": {},
   "outputs": [
    {
     "name": "stdout",
     "output_type": "stream",
     "text": [
      "全部处理完成，文件总数：228, 成功文件数：228，失败文件数：0\n"
     ]
    }
   ],
   "source": [
    "import os\n",
    "def add_break_to_non_empty_lines(file_path):\n",
    "    \"\"\"\n",
    "    This function reads a markdown file, adds a <br/> tag to the end of each non-empty line,\n",
    "    and writes the modified content back to the file.\n",
    "    \"\"\"\n",
    "    with open(file_path, 'r',encoding='utf-8') as file:\n",
    "        lines = file.readlines()\n",
    "\n",
    "    new_lines = []\n",
    "    for line in lines:\n",
    "        # Check if the line is not empty (excluding whitespace characters)\n",
    "        if line.strip():\n",
    "            if line.startswith('#') or line.startswith('|'):\n",
    "                new_line = line\n",
    "            else:\n",
    "                new_line = line.rstrip('\\n') + ' <br/>\\n'\n",
    "        else:\n",
    "            new_line = line\n",
    "        new_lines.append(new_line)\n",
    "\n",
    "    with open(file_path, 'w',encoding='utf-8') as file:\n",
    "        file.writelines(new_lines)\n",
    "def main():\n",
    "    origin_md_path = 'E:/path/to/change/'\n",
    "    fileList = os.listdir(origin_md_path)\n",
    "    md_sum = 0;\n",
    "    fail = 0;\n",
    "    for f in fileList:\n",
    "        if len(f) >= 3 and f[-3:] == '.md':\n",
    "            if 'catalog' in f:\n",
    "                continue\n",
    "            try:\n",
    "                md_sum += 1;\n",
    "                #print(f)\n",
    "                add_break_to_non_empty_lines(origin_md_path+f)\n",
    "            except Exception as e:\n",
    "                fail += 1;\n",
    "                print('文件:{}报错，异常信息:{}'.format(f,e))\n",
    "    print('全部处理完成，文件总数：{}, 成功文件数：{}，失败文件数：{}'.format(md_sum,md_sum-fail,fail))\n",
    "\n",
    "# Example usage\n",
    "\n",
    "\n",
    "if __name__ == '__main__':\n",
    "    main()"
   ]
  }
 ],
 "metadata": {
  "kernelspec": {
   "display_name": "Python 3 (ipykernel)",
   "language": "python",
   "name": "python3"
  },
  "language_info": {
   "codemirror_mode": {
    "name": "ipython",
    "version": 3
   },
   "file_extension": ".py",
   "mimetype": "text/x-python",
   "name": "python",
   "nbconvert_exporter": "python",
   "pygments_lexer": "ipython3",
   "version": "3.9.5"
  }
 },
 "nbformat": 4,
 "nbformat_minor": 5
}
