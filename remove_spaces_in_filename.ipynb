{
 "cells": [
  {
   "cell_type": "code",
   "execution_count": null,
   "id": "bc5a5eb6",
   "metadata": {},
   "outputs": [],
   "source": [
    "import os\n",
    "\n",
    "def remove_spaces_in_filenames(folder_path):\n",
    "    # 遍历文件夹下的所有文件和子文件夹\n",
    "    for root, dirs, files in os.walk(folder_path):\n",
    "        for file in files:\n",
    "            file_path = os.path.join(root, file)\n",
    "            if ' ' in file:\n",
    "                new_file = file.replace(\" \", \"_\")\n",
    "                new_file_path = os.path.join(root, new_file)\n",
    "                os.rename(file_path, new_file_path)\n",
    "                print(f\"Renamed {file_path} to {new_file_path}\")\n",
    "                if len(new_file_path) >= 3 and new_file_path[-3:] == '.md':\n",
    "                    # 处理文件内部路径中的空格\n",
    "                    with open(new_file_path, 'r+', encoding='utf-8') as f:\n",
    "                        content = f.read()\n",
    "                        start_index = 0\n",
    "                        while True:                            \n",
    "                            start_index = content.find(\"(images/\", start_index)\n",
    "                            end_index = content.find(\")\", start_index)\n",
    "                            if start_index != -1 and end_index != -1 and ' ' in content[start_index:end_index]:\n",
    "                                updated_content = content[start_index:end_index].replace(\" \", \"_\")\n",
    "                                content = content[:start_index] + updated_content + content[end_index:]                                \n",
    "                                print(f\"Removed spaces in {updated_content}\")\n",
    "                                start_index = end_index\n",
    "                            else: \n",
    "                                break;\n",
    "                        f.seek(0)\n",
    "                        f.write(content)\n",
    "                        f.truncate()\n",
    "            elif 'catalog' in file:\n",
    "                print(f'haha')\n",
    "                with open(file_path, 'r+', encoding='utf-8') as f:\n",
    "                    content = f.read()\n",
    "                    start_index = 0\n",
    "                    while True:                            \n",
    "                        start_index = content.find(\"(\", start_index)\n",
    "                        end_index = content.find(\")\", start_index)\n",
    "                        if start_index != -1 and end_index != -1:\n",
    "                            if ' ' in content[start_index:end_index]:\n",
    "                                updated_content = content[start_index:end_index].replace(\" \", \"_\")\n",
    "                                content = content[:start_index] + updated_content + content[end_index:]                                \n",
    "                                print(f\"catalog -- Removed spaces in {updated_content}\")\n",
    "                            start_index = end_index\n",
    "                        else: \n",
    "                            break;\n",
    "                    f.seek(0)\n",
    "                    f.write(content)\n",
    "                    f.truncate()\n",
    "\n",
    "# 指定要遍历的文件夹路径，会将原路径下的文件进行更改，请按需备份\n",
    "folder_path = 'E:\\workspace\\ju\\工程'\n",
    "\n",
    "# 调用函数删除文件名中的空格\n",
    "remove_spaces_in_filenames(folder_path)"
   ]
  }
 ],
 "metadata": {
  "kernelspec": {
   "display_name": "Python 3 (ipykernel)",
   "language": "python",
   "name": "python3"
  },
  "language_info": {
   "codemirror_mode": {
    "name": "ipython",
    "version": 3
   },
   "file_extension": ".py",
   "mimetype": "text/x-python",
   "name": "python",
   "nbconvert_exporter": "python",
   "pygments_lexer": "ipython3",
   "version": "3.9.5"
  }
 },
 "nbformat": 4,
 "nbformat_minor": 5
}
